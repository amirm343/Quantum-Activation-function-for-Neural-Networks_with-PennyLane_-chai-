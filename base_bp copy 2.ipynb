{
 "cells": [
  {
   "cell_type": "code",
   "execution_count": 1,
   "id": "195316ce",
   "metadata": {},
   "outputs": [],
   "source": [
    "import pennylane as qml\n",
    "from pennylane import numpy as np"
   ]
  },
  {
   "cell_type": "code",
   "execution_count": 2,
   "id": "0eedd3ae",
   "metadata": {},
   "outputs": [],
   "source": [
    "dev = qml.device(\"lightning.qubit\", wires=1)\n",
    "@qml.qnode(dev, interface=\"autograd\", diff_method=\"parameter-shift\")\n",
    "def circuit(params):\n",
    "    qml.RY(params, wires=0)\n",
    "    qml.RY(0, wires=0)\n",
    "    return qml.expval(qml.PauliZ(0))\n",
    "params = np.array([0.1], requires_grad=True)\n",
    "# qml.jacobian(circuit)(params)"
   ]
  },
  {
   "cell_type": "code",
   "execution_count": 6,
   "id": "22ac2f44",
   "metadata": {},
   "outputs": [
    {
     "name": "stdout",
     "output_type": "stream",
     "text": [
      "hi\n"
     ]
    }
   ],
   "source": [
    "class NeuralNetwork:\n",
    "    def __init__(self, layers, alpha=0.1):\n",
    "        self.W = []\n",
    "        self.layers = layers\n",
    "        self.alpha = alpha\n",
    "\n",
    "        for i in np.arange(0, len(layers) - 2):\n",
    "            \n",
    "            w = np.random.randn(layers[i] + 1, layers[i + 1] + 1)\n",
    "            self.W.append(w / np.sqrt(layers[i]))\n",
    "\n",
    "        w = np.random.randn(layers[-2] + 1, layers[-1])\n",
    "        self.W.append(w / np.sqrt(layers[-2]))\n",
    "\n",
    "    def __repr__(self):\n",
    "        return \"NeuralNetwork: {}\".format(\n",
    "\t\t\t\"-\".join(str(l) for l in self.layers))\n",
    "\n",
    "    def sigmoid(self, x):\n",
    "        out = []\n",
    "        for i in x[0]:\n",
    "            ans = circuit(i*np.pi)\n",
    "            out.append(ans)\n",
    "        return np.array([out])\n",
    "\n",
    "    def sigmoid_deriv(self, x):\n",
    "        out = []\n",
    "        for i in x[0]:\n",
    "            ans = qml.jacobian(circuit)(i*np.pi)\n",
    "            out.append(ans)\n",
    "        return np.array([out])\n",
    "\n",
    "    def fit(self, X, y, epochs=1000, displayUpdate=100):\n",
    "        X = np.c_[X, np.ones((X.shape[0]))]\n",
    "        for epoch in np.arange(0, epochs):\n",
    "            for (x, target) in zip(X, y):\n",
    "              self.fit_partial(x, target, epoch)\n",
    "              \n",
    "    def fit_partial(self, x, y, test):\n",
    "        \n",
    "        A = [np.atleast_2d(x)]\n",
    "        \n",
    "        for layer in np.arange(0, len(self.W)):\n",
    "            net = A[layer].dot(self.W[layer])\n",
    "            \n",
    "            out = self.sigmoid(net)\n",
    "            # print(out, 'h')\n",
    "            \n",
    "            A.append(out)\n",
    "            \n",
    "        error = A[-1] - y\n",
    "        # print(self.sigmoid_deriv(A))\n",
    "        D = [error * self.sigmoid_deriv(A[-1])]\n",
    "\n",
    "        for layer in np.arange(len(A) - 2, 0, -1):\n",
    "            \n",
    "            delta = D[-1].dot(self.W[layer].T)\n",
    "            delta = delta * self.sigmoid_deriv(A[layer])\n",
    "            D.append(delta)\n",
    "\n",
    "        D = D[::-1]\n",
    "        \n",
    "        for layer in np.arange(0, len(self.W)):\n",
    "\n",
    "            self.W[layer] += -self.alpha * A[layer].T.dot(D[layer])\n",
    "\n",
    "    def predict(self, X, addBias=True):\n",
    "        \n",
    "        p = np.atleast_2d(X)\n",
    "\n",
    "        if addBias:\n",
    "            p = np.c_[p, np.ones((p.shape[0]))]\n",
    "            \n",
    "        for layer in np.arange(0, len(self.W)):\n",
    "            p = self.sigmoid(np.dot(p, self.W[layer]))\n",
    "\n",
    "        return p\n",
    "\n",
    "    def calculate_loss(self, X, targets):\n",
    "        \n",
    "        targets = np.atleast_2d(targets)\n",
    "        predictions = self.predict(X, addBias=False)\n",
    "        loss = 0.5 * np.sum((predictions - targets) ** 2)\n",
    "\n",
    "        return loss\n",
    "\n",
    "print('hi')"
   ]
  },
  {
   "cell_type": "code",
   "execution_count": 7,
   "id": "97ec669b",
   "metadata": {},
   "outputs": [],
   "source": [
    "X = np.array([[0, 0], [0, 1], [1, 0], [1, 1]])\n",
    "y = np.array([[0], [1], [1], [0]])"
   ]
  },
  {
   "cell_type": "code",
   "execution_count": 13,
   "id": "104a53ed",
   "metadata": {},
   "outputs": [],
   "source": [
    "nn = NeuralNetwork([2, 2, 1], alpha=0.5)\n",
    "nn.fit(X, y, epochs=10000, displayUpdate=1000)"
   ]
  },
  {
   "cell_type": "code",
   "execution_count": 16,
   "id": "fb0e4937",
   "metadata": {},
   "outputs": [
    {
     "name": "stdout",
     "output_type": "stream",
     "text": [
      "[INFO] data=[0 0], ground-truth=0, pred=0.6074, step=0\n",
      "[INFO] data=[0 1], ground-truth=1, pred=0.4130, step=1\n",
      "[INFO] data=[1 0], ground-truth=1, pred=0.1005, step=1\n",
      "[INFO] data=[1 1], ground-truth=0, pred=-0.9886, step=0\n"
     ]
    }
   ],
   "source": [
    "for (x, target) in zip(X, y):\n",
    "\tpred = nn.predict(x)[0][0]\n",
    "\tstep = 1 if abs(pred) < 0.5 else 0\n",
    "\tprint(\"[INFO] data={}, ground-truth={}, pred={:.4f}, step={}\".format(\n",
    "\t\tx, target[0], pred, step))"
   ]
  },
  {
   "cell_type": "code",
   "execution_count": null,
   "id": "331e4ea9",
   "metadata": {},
   "outputs": [],
   "source": []
  }
 ],
 "metadata": {
  "kernelspec": {
   "display_name": "Python 3 (ipykernel)",
   "language": "python",
   "name": "python3"
  },
  "language_info": {
   "codemirror_mode": {
    "name": "ipython",
    "version": 3
   },
   "file_extension": ".py",
   "mimetype": "text/x-python",
   "name": "python",
   "nbconvert_exporter": "python",
   "pygments_lexer": "ipython3",
   "version": "3.10.13"
  }
 },
 "nbformat": 4,
 "nbformat_minor": 5
}
